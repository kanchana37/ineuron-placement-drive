{
 "cells": [
  {
   "cell_type": "markdown",
   "id": "9738a72f",
   "metadata": {},
   "source": [
    "# Q1. Create a function in python to read the text file and replace specific content of the file.\n",
    "\n",
    "## 1)File name-example.txt \n",
    "## 2)Origin file content-This is a placement assignment \n",
    "## 3)Replace string -Placement should be replaced by screening \n",
    "## 4)Replaced file content- This is a screening assignment."
   ]
  },
  {
   "cell_type": "code",
   "execution_count": 91,
   "id": "3c433b92",
   "metadata": {},
   "outputs": [],
   "source": [
    "# write file with Origin file content\n",
    "with open('example.txt', 'w') as f:\n",
    "    f.write('This is a placement assignment')\n",
    "    f.close()"
   ]
  },
  {
   "cell_type": "code",
   "execution_count": 92,
   "id": "428373bf",
   "metadata": {},
   "outputs": [],
   "source": [
    "def replace_string(replaced_text,replacing_text, file_name):\n",
    "    file = open(file_name, 'r')\n",
    "    file = file.read()\n",
    "    file = file.replace('placement', 'screening')\n",
    "    print(file)"
   ]
  },
  {
   "cell_type": "code",
   "execution_count": 93,
   "id": "13682df5",
   "metadata": {},
   "outputs": [
    {
     "name": "stdout",
     "output_type": "stream",
     "text": [
      "This is a screening assignment\n"
     ]
    }
   ],
   "source": [
    "replace_string('placement', 'screening','example.txt')\n"
   ]
  },
  {
   "cell_type": "markdown",
   "id": "9700b74c",
   "metadata": {},
   "source": [
    "# Q2. Demonstrate use of abstract class, multiple inheritance and decorator in python using examples."
   ]
  },
  {
   "cell_type": "markdown",
   "id": "04913ed2",
   "metadata": {},
   "source": [
    "## Abstraction"
   ]
  },
  {
   "cell_type": "markdown",
   "id": "e210baac",
   "metadata": {},
   "source": [
    "An abstract class can be considered as a blueprint for other classes. It allows you to create a set of methods that must be created within any child classes built from the abstract class. A class which contains one or more abstract methods is called an abstract class. An abstract method is a method that has a declaration but does not have an implementation."
   ]
  },
  {
   "cell_type": "code",
   "execution_count": 94,
   "id": "8f7e978c",
   "metadata": {},
   "outputs": [],
   "source": [
    "from abc import ABC, abstractmethod"
   ]
  },
  {
   "cell_type": "code",
   "execution_count": 97,
   "id": "9dd96977",
   "metadata": {},
   "outputs": [],
   "source": [
    "class ineuron(ABC):\n",
    "    def text(self):\n",
    "        return (\"this is an example of an abstract class\")\n",
    "        \n",
    "    @abstractmethod #decorator\n",
    "    def reviews(self):\n",
    "        pass\n",
    "\n",
    "class course(ineuron):\n",
    "    def reviews(self):\n",
    "        print('It is a platform where we get wide variety of tech courses')   \n",
    "        \n",
    "class one_neuron(ineuron):\n",
    "    def reviews(self):\n",
    "        print('iNeuron Launches On-Demand OTT Platform called OneNeuron for Education that consist of wide variety of courses with lifetime access.')\n",
    "\n",
    "class kids_neuron(ineuron):\n",
    "    def reviews(self):\n",
    "        print('It provides courses for kids from beginners to advance level')\n",
    "\n",
    "class Mentors(ineuron): \n",
    "    def reviews(self):\n",
    "        print('At ineuron we get to learn from good and experienced teaching faculty')\n",
    "        \n",
    "class rates(ineuron):\n",
    "    def reviews(self):\n",
    "        print('ineuron provide courses at affordable rates')\n",
    "\n",
    "        "
   ]
  },
  {
   "cell_type": "code",
   "execution_count": 103,
   "id": "7947ed5d",
   "metadata": {},
   "outputs": [
    {
     "name": "stdout",
     "output_type": "stream",
     "text": [
      "\n",
      " this is an example of an abstract class\n",
      "It is a platform where we get wide variety of tech courses\n",
      "iNeuron Launches On-Demand OTT Platform called OneNeuron for Education that consist of wide variety of courses with lifetime access.\n",
      "It provides courses for kids from beginners to advance level\n",
      "ineuron provide courses at affordable rates\n",
      "At ineuron we get to learn from good and experienced teaching faculty\n"
     ]
    }
   ],
   "source": [
    "#Driver code\n",
    "c=course()\n",
    "print(\"\\n\", c.text())\n",
    "c.reviews()\n",
    "\n",
    "o=one_neuron()\n",
    "o.reviews()\n",
    "\n",
    "k=kids_neuron()\n",
    "k.reviews()\n",
    "\n",
    "r=rates()\n",
    "r.reviews()\n",
    "\n",
    "m=Mentors()\n",
    "m.reviews()"
   ]
  },
  {
   "cell_type": "markdown",
   "id": "fabe8538",
   "metadata": {},
   "source": [
    "## Multiple inheritance"
   ]
  },
  {
   "cell_type": "markdown",
   "id": "328ee47b",
   "metadata": {},
   "source": [
    "When a class is derived from more than one base class it is called multiple Inheritance. The derived class inherits all the features of the base case."
   ]
  },
  {
   "cell_type": "code",
   "execution_count": 110,
   "id": "37142602",
   "metadata": {},
   "outputs": [],
   "source": [
    "# Python Program to depict multiple inheritance\n",
    "\n",
    "class vehicle:\n",
    "    def __init__(self,mileage,fuel_type):\n",
    "        self.mileage=mileage\n",
    "        self.fuel_type=fuel_type\n",
    "    \n",
    "    def get_features(self):\n",
    "        return f\"This car gives mileage of {self.mileage},its feul type is {self.fuel_type} and the price ranges around {self.price}.The model of the car is {self.model}\"\n",
    "\n",
    "class  car:\n",
    "    def __init__(self,mileage,fuel_type,price): \n",
    "        self.price=price\n",
    "        vehicle. __init__(self,mileage,fuel_type)\n",
    "    \n",
    "class sedan(car,vehicle):\n",
    "    def __init__(self,mileage,fuel_type,price,model):\n",
    "        self.model=model\n",
    "        car. __init__(self,mileage,fuel_type,price)\n",
    "        \n",
    "class honda(sedan):\n",
    "    pass"
   ]
  },
  {
   "cell_type": "code",
   "execution_count": 111,
   "id": "de794dcf",
   "metadata": {},
   "outputs": [
    {
     "name": "stdout",
     "output_type": "stream",
     "text": [
      "This car gives mileage of 24kmpl,its feul type is petrol and the price ranges around 1100000.The model of the car is honda_city\n"
     ]
    }
   ],
   "source": [
    "h=honda('24kmpl','petrol','1100000','honda_city')\n",
    "print(h.get_features())"
   ]
  },
  {
   "cell_type": "code",
   "execution_count": 112,
   "id": "1bf8553a",
   "metadata": {},
   "outputs": [
    {
     "data": {
      "text/plain": [
       "'24kmpl'"
      ]
     },
     "execution_count": 112,
     "metadata": {},
     "output_type": "execute_result"
    }
   ],
   "source": [
    "h.mileage"
   ]
  },
  {
   "cell_type": "code",
   "execution_count": 107,
   "id": "96dcefcb",
   "metadata": {},
   "outputs": [
    {
     "data": {
      "text/plain": [
       "'honda_city'"
      ]
     },
     "execution_count": 107,
     "metadata": {},
     "output_type": "execute_result"
    }
   ],
   "source": [
    "h.model"
   ]
  },
  {
   "cell_type": "markdown",
   "id": "b140c0bc",
   "metadata": {},
   "source": [
    "## Decorators"
   ]
  },
  {
   "cell_type": "markdown",
   "id": "ff4ca148",
   "metadata": {},
   "source": [
    "Decorators are used to modify the behaviour of function or class. In Decorators, functions are taken as the argument into another function and then called inside the wrapper function."
   ]
  },
  {
   "cell_type": "code",
   "execution_count": 65,
   "id": "8a036975",
   "metadata": {},
   "outputs": [],
   "source": [
    "def welcome_school(func):\n",
    "    \n",
    "    def sub_welcome_class():\n",
    "        print('good morning everyone') #this is before function execution\n",
    "        func()\n",
    "        print('we welcome you all!') #this is after function execution\n",
    "    return sub_welcome_class()"
   ]
  },
  {
   "cell_type": "code",
   "execution_count": 66,
   "id": "40253fec",
   "metadata": {},
   "outputs": [
    {
     "name": "stdout",
     "output_type": "stream",
     "text": [
      "good morning everyone\n",
      "this is abc school\n",
      "we welcome you all!\n"
     ]
    }
   ],
   "source": [
    "@welcome_school #decorator\n",
    "def school_name():\n",
    "    print('this is abc school') #this is executed within function\n",
    "    "
   ]
  },
  {
   "cell_type": "code",
   "execution_count": null,
   "id": "33e1105b",
   "metadata": {},
   "outputs": [],
   "source": []
  }
 ],
 "metadata": {
  "kernelspec": {
   "display_name": "Python 3 (ipykernel)",
   "language": "python",
   "name": "python3"
  },
  "language_info": {
   "codemirror_mode": {
    "name": "ipython",
    "version": 3
   },
   "file_extension": ".py",
   "mimetype": "text/x-python",
   "name": "python",
   "nbconvert_exporter": "python",
   "pygments_lexer": "ipython3",
   "version": "3.9.7"
  }
 },
 "nbformat": 4,
 "nbformat_minor": 5
}
